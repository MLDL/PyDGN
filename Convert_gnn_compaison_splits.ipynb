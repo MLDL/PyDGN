{
 "cells": [
  {
   "cell_type": "code",
   "execution_count": 2,
   "metadata": {},
   "outputs": [],
   "source": [
    "import os\n",
    "import yaml\n",
    "import json"
   ]
  },
  {
   "cell_type": "code",
   "execution_count": 33,
   "metadata": {},
   "outputs": [],
   "source": [
    "outer_splits = 10\n",
    "inner_splits = 1\n",
    "seed = 42\n",
    "dataset = 'IMDB-BINARY'\n",
    "input_split_path = f'data_splits/COLLABORATIVE_1/{dataset}_splits.json'\n",
    "output_split_path = f'SPLITS/COLLABORATIVE_1/{dataset}/{dataset}_outer{outer_splits}_inner{inner_splits}.yml'\n",
    "\n",
    "if not os.path.exists(f'SPLITS/COLLABORATIVE_1/{dataset}/'):\n",
    "    os.makedirs(f'SPLITS/COLLABORATIVE_1/{dataset}/')"
   ]
  },
  {
   "cell_type": "code",
   "execution_count": 34,
   "metadata": {},
   "outputs": [],
   "source": [
    "with open(input_split_path, 'r') as f:\n",
    "    input_splits = json.load(f)"
   ]
  },
  {
   "cell_type": "code",
   "execution_count": 35,
   "metadata": {},
   "outputs": [
    {
     "data": {
      "text/plain": [
       "10"
      ]
     },
     "execution_count": 35,
     "metadata": {},
     "output_type": "execute_result"
    }
   ],
   "source": [
    "len(input_splits)"
   ]
  },
  {
   "cell_type": "code",
   "execution_count": 36,
   "metadata": {},
   "outputs": [],
   "source": [
    "new_dict= {'outer_folds': [], 'inner_folds': [], 'seed': seed}\n",
    "\n",
    "for i, outer_fold in enumerate(input_splits):\n",
    "\n",
    "    inner_folds_splits = []\n",
    "    \n",
    "    test = outer_fold['test']\n",
    "    ms = outer_fold['model_selection']\n",
    "    for j, inner_fold in enumerate(ms):\n",
    "        train = inner_fold['train']\n",
    "        val = inner_fold['validation']\n",
    "            \n",
    "        inner_folds_splits.append({'train': train, 'val': val})\n",
    "    new_dict['inner_folds'].append(inner_folds_splits)\n",
    "    new_dict['outer_folds'].append({'test': test, 'train': train+val})  # use the last train_val split\n",
    "    "
   ]
  },
  {
   "cell_type": "code",
   "execution_count": 37,
   "metadata": {},
   "outputs": [
    {
     "name": "stdout",
     "output_type": "stream",
     "text": [
      "Storing splits from data_splits/COLLABORATIVE_1/IMDB-BINARY_splits.json to SPLITS/COLLABORATIVE_1/IMDB-BINARY/IMDB-BINARY_outer10_inner1.yml\n"
     ]
    }
   ],
   "source": [
    "with open(output_split_path, 'w') as outfile:\n",
    "    print(f\"Storing splits from {input_split_path} to {output_split_path}\")\n",
    "    yaml.dump(new_dict, outfile)"
   ]
  },
  {
   "cell_type": "code",
   "execution_count": null,
   "metadata": {},
   "outputs": [],
   "source": []
  },
  {
   "cell_type": "code",
   "execution_count": null,
   "metadata": {},
   "outputs": [],
   "source": []
  }
 ],
 "metadata": {
  "kernelspec": {
   "display_name": "Python 3",
   "language": "python",
   "name": "python3"
  },
  "language_info": {
   "codemirror_mode": {
    "name": "ipython",
    "version": 3
   },
   "file_extension": ".py",
   "mimetype": "text/x-python",
   "name": "python",
   "nbconvert_exporter": "python",
   "pygments_lexer": "ipython3",
   "version": "3.7.6"
  }
 },
 "nbformat": 4,
 "nbformat_minor": 4
}
